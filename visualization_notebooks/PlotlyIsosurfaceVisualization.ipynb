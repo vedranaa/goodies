{
 "cells": [
  {
   "cell_type": "markdown",
   "metadata": {},
   "source": [
    "# Example of isosurface visualization in ploty\n",
    "Ploty can visualize isosurfaces. Here I use a binary (dummy) data, but I guess that grayscale data is just as fine.  \n",
    "Author: vand@dtu.dk, 2020"
   ]
  },
  {
   "cell_type": "code",
   "execution_count": null,
   "metadata": {},
   "outputs": [],
   "source": [
    "import plotly.graph_objects as go\n",
    "from plotly.subplots import make_subplots\n",
    "import numpy as np\n",
    "import scipy.io\n",
    "import sys\n",
    "import os"
   ]
  },
  {
   "cell_type": "code",
   "execution_count": null,
   "metadata": {},
   "outputs": [],
   "source": [
    "#  Get module dummydata\n",
    "if not os.path.exists('dummydata.py'):  # can't find it\n",
    "    dir_up = os.path.dirname(os.getcwd())\n",
    "    if os.path.exists('../dummydata.py'):  # it's in the parent directory\n",
    "        sys.path.append(os.path.dirname(os.getcwd()))\n",
    "    else:\n",
    "        !wget 'https://raw.githubusercontent.com/vedranaa/goodies/main/dummydata.py'\n",
    "import dummydata"
   ]
  },
  {
   "cell_type": "code",
   "execution_count": null,
   "metadata": {},
   "outputs": [],
   "source": [
    "B = dummydata.binary_splatty((100,100,100), boundary=0.1)\n",
    "X, Y, Z = np.mgrid[range(B.shape[0]), range(B.shape[1]), range(B.shape[2])]\n",
    "\n",
    "\n",
    "fig = make_subplots(\n",
    "    rows=1, cols=2,\n",
    "    specs=[[{\"type\": \"volume\"}, {\"type\": \"volume\"}]])\n",
    "\n",
    "fig.add_trace(\n",
    "    go.Volume(x=X.flatten(), y=Y.flatten(), z=Z.flatten(), value=B.flatten(),\n",
    "    isomin=0.4, isomax=0.6, opacity=0.5, surface_count=1, colorscale = 'Greys'),\n",
    "    row=1, col=1\n",
    ")\n",
    "fig.add_trace(\n",
    "    go.Volume(x=X.flatten(), y=Y.flatten(), z=Z.flatten(), value=B.flatten(),\n",
    "    isomin=0.4, isomax=0.6, opacity=0.5, surface_count=1),\n",
    "    row=1, col=2\n",
    ")\n",
    "\n",
    "fig.show()"
   ]
  },
  {
   "cell_type": "code",
   "execution_count": null,
   "metadata": {},
   "outputs": [],
   "source": []
  }
 ],
 "metadata": {
  "kernelspec": {
   "display_name": "Python 3 (ipykernel)",
   "language": "python",
   "name": "python3"
  },
  "language_info": {
   "codemirror_mode": {
    "name": "ipython",
    "version": 3
   },
   "file_extension": ".py",
   "mimetype": "text/x-python",
   "name": "python",
   "nbconvert_exporter": "python",
   "pygments_lexer": "ipython3",
   "version": "3.9.12"
  }
 },
 "nbformat": 4,
 "nbformat_minor": 2
}
