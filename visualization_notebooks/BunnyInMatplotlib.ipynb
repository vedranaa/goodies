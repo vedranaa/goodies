{
 "cells": [
  {
   "cell_type": "markdown",
   "metadata": {},
   "source": [
    "# Triangular mesh from obj file shown using matplotlib\n",
    "A small example demonstrating some operations with triangular meshes: loading an obj file, crating mplot3d mesh object, computing shading, assigning colors to faces, and visualizing.  \n",
    "Author: vand@dtu.dk, 2020"
   ]
  },
  {
   "cell_type": "code",
   "execution_count": null,
   "metadata": {},
   "outputs": [],
   "source": [
    "import numpy as np\n",
    "import urllib.request\n",
    "import mpl_toolkits.mplot3d.art3d \n",
    "import matplotlib.pyplot as plt\n",
    "import matplotlib.colors \n",
    "\n",
    "def load_obj(filename):\n",
    "    \"\"\" Load triangle mesh from obj file.\n",
    "    \"\"\"\n",
    "    vertices = []\n",
    "    faces = []\n",
    "    with open(filename, 'r') as f:        \n",
    "        for line in f:\n",
    "            if line and line[0]=='v':\n",
    "                vertex = np.array(line[2:].split(' '), dtype=float)                \n",
    "                vertices.append(vertex)\n",
    "            if line and line[0]=='f':\n",
    "                face = np.array(line[2:].split(' '), dtype=int)  \n",
    "                faces.append(face)\n",
    "    return np.array(vertices), np.array(faces)\n",
    "\n",
    "def load_url_obj(url):\n",
    "    \"\"\" Load triangle mesh from online obj file.\n",
    "    \"\"\"\n",
    "    vertices = []\n",
    "    faces = []\n",
    "    with urllib.request.urlopen(url) as response:\n",
    "        for bline in response:\n",
    "            line = bline.decode()\n",
    "            if line and line[0]=='v':\n",
    "                vertex = np.array(line[2:].split(' '), dtype=float)                \n",
    "                vertices.append(vertex)\n",
    "            if line and line[0]=='f':\n",
    "                face = np.array(line[2:].split(' '), dtype=int)  \n",
    "                faces.append(face)\n",
    "    return np.array(vertices), np.array(faces)"
   ]
  },
  {
   "cell_type": "code",
   "execution_count": null,
   "metadata": {},
   "outputs": [],
   "source": [
    "# loading from url (of file, commented out) and slightly adjusting the mesh\n",
    "url = 'https://graphics.stanford.edu/~mdfisher/Data/Meshes/bunny.obj'\n",
    "vertices, faces = load_url_obj(url)\n",
    "#filename = 'bunny.obj'\n",
    "#vertices, faces = load_obj(filename)\n",
    "faces -= 1 # 0-indexing\n",
    "vertices -= vertices.mean(axis=0) # vertices in origo\n",
    "vertices /= np.abs(vertices).max() # vertices in box [-1 1]^3\n",
    "\n",
    "# computing face shading intensity based on face normals\n",
    "ls = matplotlib.colors.LightSource(azdeg=0, altdeg=0)\n",
    "normals = np.cross(vertices[faces[:,1]]-vertices[faces[:,0]],vertices[faces[:,2]]-vertices[faces[:,0]])\n",
    "normals /= np.sqrt((normals**2).sum(axis=1)).reshape(-1,1) # normalizing\n",
    "intensity = ls.shade_normals(normals)\n",
    "\n",
    "# basic mesh color, same for all faces, here red-ish\n",
    "color = np.tile([[[1,0.5,0]]],(normals.shape[0],1,1))\n",
    "\n",
    "# blending face colors and face shading intensity\n",
    "rgb = ls.blend_hsv(rgb = color, intensity=intensity.reshape(-1,1,1)) \n",
    "\n",
    "# adding alpha value, may be left out\n",
    "rgba = np.concatenate((rgb,0.9*np.ones(shape=(rgb.shape[0],1,1))),axis=2) \n",
    "\n",
    "# creating mesh with given face colors\n",
    "mesh = mpl_toolkits.mplot3d.art3d.Poly3DCollection(vertices[faces])\n",
    "mesh.set_facecolor(rgba.reshape(-1,4))"
   ]
  },
  {
   "cell_type": "code",
   "execution_count": null,
   "metadata": {},
   "outputs": [],
   "source": [
    "# and now -- visualization!\n",
    "fig = plt.figure(figsize=(15,15))\n",
    "ax = plt.axes(projection='3d')\n",
    "ax.add_collection3d(mesh)\n",
    "ax.view_init(azim=-90, elev=120) # rather limited control of camera, where's up-vector?\n",
    "ax.set_xlim(-1,1)\n",
    "ax.set_ylim(-1,1)\n",
    "ax.set_zlim(-1,1)\n",
    "ax.set_axis_off()\n",
    "plt.show()"
   ]
  }
 ],
 "metadata": {
  "kernelspec": {
   "display_name": "Python 3 (ipykernel)",
   "language": "python",
   "name": "python3"
  },
  "language_info": {
   "codemirror_mode": {
    "name": "ipython",
    "version": 3
   },
   "file_extension": ".py",
   "mimetype": "text/x-python",
   "name": "python",
   "nbconvert_exporter": "python",
   "pygments_lexer": "ipython3",
   "version": "3.9.12"
  }
 },
 "nbformat": 4,
 "nbformat_minor": 4
}
